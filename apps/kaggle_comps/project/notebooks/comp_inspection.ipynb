{
 "cells": [
  {
   "cell_type": "code",
   "execution_count": null,
   "id": "42ad3702",
   "metadata": {},
   "outputs": [],
   "source": [
    "import json\n",
    "import pathlib\n",
    "\n",
    "from IPython import display\n",
    "import matplotlib.pyplot as plt\n",
    "import pandas as pd\n",
    "# import yaml"
   ]
  },
  {
   "cell_type": "code",
   "execution_count": null,
   "id": "91001bc3",
   "metadata": {},
   "outputs": [],
   "source": [
    "with pathlib.Path('../config.yml').open('r') as in_stream:\n",
    "    config = yaml.load(in_stream, Loader=yaml.CLoader)"
   ]
  },
  {
   "cell_type": "markdown",
   "id": "3be25320",
   "metadata": {},
   "source": [
    "## helpers"
   ]
  },
  {
   "cell_type": "code",
   "execution_count": null,
   "id": "13efd1f6",
   "metadata": {},
   "outputs": [],
   "source": [
    "class Competition:\n",
    "    def __init__(self, root_path, base_heading_level=3):\n",
    "        self.root_path = pathlib.Path(root_path).expanduser()\n",
    "        self.files = {'description': self.root_path/'raw/description.json',\n",
    "                      'leaderboard': self.root_path/'raw/publicleaderboarddata.zip',\n",
    "                     }\n",
    "    \n",
    "    def description(self):\n",
    "        with self.files['description'].open('r') as in_stream:\n",
    "            return json.load(in_stream)\n",
    "    \n",
    "    def leaderboard(self):\n",
    "        return pd.read_csv(self.files['leaderboard'])\n",
    "    \n",
    "    def _show_heading(self, content, rel_level=1):\n",
    "        prefix = '#' * (self.base_heading_level - 1 + rel_level)\n",
    "        display.display(display.Markdown(f'{prefix} {content}'))\n",
    "    \n",
    "    def _ipython_display_(self):\n",
    "        description = self.description()\n",
    "        leaderboard = self.leaderboard()\n",
    "        self._show_heading(''.format(**description))\n",
    "        \n",
    "    \n",
    "    \n",
    "class CompetitionFinder:\n",
    "    def __init__(self, root_path):\n",
    "        self.root_path = pathlib.Path(root_path).expanduser()\n",
    "    \n",
    "    def keys(self):\n",
    "        candidates = (c.name for c in self.root_path.iterdir())\n",
    "        yield from (k\n",
    "                    for k in candidates\n",
    "                    if all(f.exists() for f in self[k].files.values()))\n",
    "    \n",
    "    def __getitem__(self, k):\n",
    "        return Competition(self.root_path/k)\n",
    "        "
   ]
  },
  {
   "cell_type": "code",
   "execution_count": null,
   "id": "567f2c99",
   "metadata": {},
   "outputs": [],
   "source": [
    "comps = CompetitionFinder(pathlib.Path(config['dat_root'])/'comps')\n",
    "list(comps.keys())"
   ]
  },
  {
   "cell_type": "code",
   "execution_count": null,
   "id": "0f0734b3",
   "metadata": {},
   "outputs": [],
   "source": [
    "comp = comps['R']"
   ]
  },
  {
   "cell_type": "code",
   "execution_count": null,
   "id": "e5675574",
   "metadata": {},
   "outputs": [],
   "source": [
    "comp.description()"
   ]
  },
  {
   "cell_type": "code",
   "execution_count": null,
   "id": "a7a786ed",
   "metadata": {},
   "outputs": [],
   "source": [
    "comp.leaderboard()"
   ]
  },
  {
   "cell_type": "code",
   "execution_count": null,
   "id": "2d247d6e",
   "metadata": {},
   "outputs": [],
   "source": [
    "f = comp.files['leaderboard']\n",
    "\n",
    "import zipfile\n",
    "\n",
    "with zipfile.ZipFile(f) as archive:\n",
    "    print(dir(archive))\n",
    "    print(archive.namelist())\n",
    "\n",
    "\n"
   ]
  },
  {
   "cell_type": "markdown",
   "id": "1f70ddf6",
   "metadata": {},
   "source": [
    "## comp"
   ]
  },
  {
   "cell_type": "code",
   "execution_count": null,
   "id": "8ed0b555",
   "metadata": {},
   "outputs": [],
   "source": [
    "comp_name = 'recursion-cellular-image-classification'"
   ]
  },
  {
   "cell_type": "code",
   "execution_count": null,
   "id": "42403c9b",
   "metadata": {},
   "outputs": [],
   "source": [
    "paths = {'dat_root': pathlib.Path(config['dat_root']).expanduser()/'comps'/comp_name}\n",
    "paths['raw'] = paths['dat_root']/'raw'"
   ]
  },
  {
   "cell_type": "markdown",
   "id": "428e03f3",
   "metadata": {},
   "source": [
    "## Description"
   ]
  },
  {
   "cell_type": "code",
   "execution_count": null,
   "id": "ae876beb",
   "metadata": {},
   "outputs": [],
   "source": [
    "with paths['raw'].joinpath('description.json').open('r') as in_stream:\n",
    "    description = json.load(in_stream)"
   ]
  },
  {
   "cell_type": "code",
   "execution_count": null,
   "id": "bc343a70",
   "metadata": {},
   "outputs": [],
   "source": [
    "description"
   ]
  },
  {
   "cell_type": "markdown",
   "id": "2f4d0ece",
   "metadata": {},
   "source": [
    "## leaderboard"
   ]
  },
  {
   "cell_type": "code",
   "execution_count": null,
   "id": "69e6325d",
   "metadata": {},
   "outputs": [],
   "source": []
  }
 ],
 "metadata": {
  "kernelspec": {
   "display_name": "Python 3",
   "language": "python",
   "name": "python3"
  },
  "language_info": {
   "codemirror_mode": {
    "name": "ipython",
    "version": 3
   },
   "file_extension": ".py",
   "mimetype": "text/x-python",
   "name": "python",
   "nbconvert_exporter": "python",
   "pygments_lexer": "ipython3",
   "version": "3.7.10"
  }
 },
 "nbformat": 4,
 "nbformat_minor": 5
}
